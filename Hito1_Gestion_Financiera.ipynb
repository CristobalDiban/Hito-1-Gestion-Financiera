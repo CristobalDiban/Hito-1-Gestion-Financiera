{
  "nbformat": 4,
  "nbformat_minor": 0,
  "metadata": {
    "colab": {
      "provenance": []
    },
    "kernelspec": {
      "name": "python3",
      "display_name": "Python 3"
    },
    "language_info": {
      "name": "python"
    }
  },
  "cells": [
    {
      "cell_type": "code",
      "execution_count": null,
      "metadata": {
        "id": "AoykDAHMYm5r"
      },
      "outputs": [],
      "source": []
    },
    {
      "cell_type": "markdown",
      "source": [
        "# Hito 1:\n",
        "\n",
        "##Descripción Activo y Contexto\n",
        "Fecha de entrega límite: Miércoles 25 de Septiembre 23:59.\n",
        "\n",
        "##Definición\n",
        "El activo que se escogió fue Coca-Cola Company, una de las empresas más grandes en todo el mundo. Esta empresa se dedica a la producción, distribución y comercialización de bebidas, siendo su producto más reconocido la bebida gaseosa Coca-Cola.\n",
        "\n",
        "Se fundó en 1886 en Estados Unidos por el farmacéutico John Stith Pemberton. Al pasar los años, la empresa ha diversificado su portafolio de productos, ofreciendo una amplia gama de bebidas que incluyen aguas, jugos, tés, y bebidas energéticas. Coca-Cola sigue siendo líder en la industria de bebidas global, manteniendo una fuerte presencia en más de 200 países.\n",
        "\n",
        "Para una visión más amplia sobre su estructura corporativa y estrategias financieras, se puede consultar el documento “Analysis on the Success of Coca-Cola Marketing Strategy 2020” que proporciona un análisis de los resultados operativos y financieros de la compañía durante Los últimos años.\n",
        "\n",
        "##Motivación\n",
        "\n",
        "Se escogió esta empresa, debido a que es un ejemplo en sus técnicas de marketing y en su innovación de productos, lo que le ha permitido permanecerse estable financieramente, sin demasiada volatilidad en el precio de sus acciones.\n",
        "\n",
        "Además, Coca-Cola ha sabido adaptarse a las tendencias del mercado, lanzando productos que responden a las preocupaciones de salud de los consumidores . La fuerte conexión emocional que ha cultivado con sus clientes resalta la importancia de la cultura de marca en la lealtad del consumidor . Por último, estudiar cómo ha enfrentado y aprendido de sus desafíos proporciona una perspectiva sobre la resiliencia empresarial . En conjunto, estos aspectos hacen de Coca-Cola un modelo a seguir en el ámbito del marketing y la gestión empresarial.\n"
      ],
      "metadata": {
        "id": "fdISEZdoYn1S"
      }
    },
    {
      "cell_type": "markdown",
      "source": [],
      "metadata": {
        "id": "fYqs0djLgKgw"
      }
    }
  ]
}